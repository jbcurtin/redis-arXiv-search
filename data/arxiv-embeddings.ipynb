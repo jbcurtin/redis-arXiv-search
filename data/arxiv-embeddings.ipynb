{
 "cells": [
  {
   "cell_type": "code",
   "execution_count": 2,
   "id": "cc20c14a",
   "metadata": {},
   "outputs": [],
   "source": [
    "import json\n",
    "import pandas as pd\n",
    "import os\n",
    "import re\n",
    "import string\n",
    "\n",
    "\n",
    "DATA_PATH = \"arxiv-metadata-oai-snapshot.json\"\n",
    "YEAR_CUTOFF = 2012\n",
    "YEAR_PATTERN = r\"(19|20[0-9]{2})\"\n",
    "ML_CATEGORY = \"cs.LG\""
   ]
  },
  {
   "cell_type": "code",
   "execution_count": 3,
   "id": "05e20498",
   "metadata": {},
   "outputs": [],
   "source": [
    "def process(paper: dict):\n",
    "    paper = json.loads(paper)\n",
    "    if paper['journal-ref']:\n",
    "        years = [int(year) for year in re.findall(YEAR_PATTERN, paper['journal-ref'])]\n",
    "        years = [year for year in years if (year <= 2022 and year >= 1991)]\n",
    "        year = min(years) if years else None\n",
    "    else:\n",
    "        year = None\n",
    "    return {\n",
    "        'id': paper['id'],\n",
    "        'title': paper['title'],\n",
    "        'year': year,\n",
    "        'authors': paper['authors'],\n",
    "        'categories': ','.join(paper['categories'].split(' ')),\n",
    "        'abstract': paper['abstract']\n",
    "    }\n",
    "\n",
    "def papers():\n",
    "    with open(DATA_PATH, 'r') as f:\n",
    "        for paper in f:\n",
    "            paper = process(paper)\n",
    "            if paper['year']:\n",
    "                if paper['year'] >= YEAR_CUTOFF and ML_CATEGORY in paper['categories']:\n",
    "                    yield paper"
   ]
  },
  {
   "cell_type": "code",
   "execution_count": 4,
   "id": "04abead5-2567-47ed-ac51-abb10ca4b4c3",
   "metadata": {
    "tags": []
   },
   "outputs": [
    {
     "data": {
      "text/plain": [
       "11304"
      ]
     },
     "execution_count": 4,
     "metadata": {},
     "output_type": "execute_result"
    }
   ],
   "source": [
    "df = pd.DataFrame(papers())\n",
    "len(df)"
   ]
  },
  {
   "cell_type": "code",
   "execution_count": 5,
   "id": "aee130cd",
   "metadata": {},
   "outputs": [
    {
     "data": {
      "text/plain": [
       "169.8122788393489"
      ]
     },
     "execution_count": 5,
     "metadata": {},
     "output_type": "execute_result"
    }
   ],
   "source": [
    "# Avg length of the abstracts\n",
    "df.abstract.apply(lambda a: len(a.split())).mean()"
   ]
  },
  {
   "cell_type": "code",
   "execution_count": 6,
   "id": "1415eabf-965a-465a-98ec-7cdec531f933",
   "metadata": {},
   "outputs": [],
   "source": [
    "def clean_description(description: str):\n",
    "    if not description:\n",
    "        return \"\"\n",
    "    # remove unicode characters\n",
    "    description = description.encode('ascii', 'ignore').decode()\n",
    "\n",
    "    # remove punctuation\n",
    "    description = re.sub('[%s]' % re.escape(string.punctuation), ' ', description)\n",
    "\n",
    "    # clean up the spacing\n",
    "    description = re.sub('\\s{2,}', \" \", description)\n",
    "\n",
    "    # remove urls\n",
    "    #description = re.sub(\"https*\\S+\", \" \", description)\n",
    "\n",
    "    # remove newlines\n",
    "    description = description.replace(\"\\n\", \" \")\n",
    "\n",
    "    # remove all numbers\n",
    "    #description = re.sub('\\w*\\d+\\w*', '', description)\n",
    "\n",
    "    # split on capitalized words\n",
    "    description = \" \".join(re.split('(?=[A-Z])', description))\n",
    "\n",
    "    # clean up the spacing again\n",
    "    description = re.sub('\\s{2,}', \" \", description)\n",
    "\n",
    "    # make all words lowercase\n",
    "    description = description.lower()\n",
    "\n",
    "    return description"
   ]
  },
  {
   "cell_type": "code",
   "execution_count": 8,
   "id": "ef747be9",
   "metadata": {},
   "outputs": [
    {
     "name": "stderr",
     "output_type": "stream",
     "text": [
      "/Users/tyler.hutcherson/miniconda3/envs/redis-ventures/lib/python3.8/site-packages/tqdm/auto.py:22: TqdmWarning: IProgress not found. Please update jupyter and ipywidgets. See https://ipywidgets.readthedocs.io/en/stable/user_install.html\n",
      "  from .autonotebook import tqdm as notebook_tqdm\n"
     ]
    }
   ],
   "source": [
    "from sentence_transformers import SentenceTransformer\n",
    "\n",
    "model = SentenceTransformer('sentence-transformers/all-mpnet-base-v2')"
   ]
  },
  {
   "cell_type": "code",
   "execution_count": 13,
   "id": "249ad360",
   "metadata": {},
   "outputs": [],
   "source": [
    "# Create embeddings from the title and abstract\n",
    "\n",
    "'''\n",
    "Feature Set\n",
    "    - Keyword Extraction\n",
    "        - Category Specific\n",
    "        - Author Specific\n",
    "    - Paper Ranking Algorithm\n",
    "        - Journal Specific Ranking\n",
    "        - Category Specific Ranking\n",
    "        - Author Specific Ranking\n",
    "    - General Search using Title\n",
    "    - General Search using Abstracts\n",
    "    \n",
    "User Experience[Faceits]\n",
    "    - Author\n",
    "    - Category\n",
    "    - Title\n",
    "    - Abstract\n",
    "    - Year\n",
    "\n",
    "Dimitrios\n",
    "    - Extract features from Categories\n",
    "    -   Finding simularity between category\n",
    "    -     How close is Computer Science to Computer Engineering\n",
    "    -     How close is Physics to Astrophyiscs\n",
    "    -      What metrics are used to rank simularity?\n",
    "    -      Which ML Models or NN Models would be used to \"segment\" the categories\n",
    "    -      Merge two or more features that look a like using the Abstract or Title and/or Author\n",
    "    -        Look for the most expressive features and match those together\n",
    "Jitu\n",
    "    - Title; create a vector/embedding from the title\n",
    "    - Suggest different ways to phrase the title; create vectors from that\n",
    "    -   very very very tricky\n",
    "    -   Searching through description content, to find simular description and suggest title alterations or title simularity\n",
    "Ugo\n",
    "    - Authors\n",
    "    -   Finding simularity between author contirbutation\n",
    "    -      What metrics are used to rank simularity?\n",
    "    -      Which ML Models or NN Models would be used to \"segment\" the categories\n",
    "    -      Merge two or more features that look a like using the Abstract or Title and/or Author\n",
    "    -        Look for the most expressive features and match those together\n",
    "    -   Citation ranking\n",
    "Joe\n",
    "    - Break the descirption into sentences; create vector/embedding from each sentence\n",
    "    - Keyword Extraction: Most common terms in Abstracts\n",
    "'''\n",
    "\n",
    "emb = model.encode(df.apply(lambda r: clean_description(r['title'] + ' ' + r['abstract']), axis=1).tolist())"
   ]
  },
  {
   "cell_type": "code",
   "execution_count": 14,
   "id": "f7b4974a",
   "metadata": {},
   "outputs": [],
   "source": [
    "# Add embeddings to df\n",
    "df = df.reset_index().drop('index', axis=1)\n",
    "df['vector'] = emb.tolist()"
   ]
  },
  {
   "cell_type": "code",
   "execution_count": 15,
   "id": "ab41fe6c-5620-489f-9004-cb0fe0b094cb",
   "metadata": {
    "tags": []
   },
   "outputs": [],
   "source": [
    "import pickle\n",
    "\n",
    "# Export to file!\n",
    "with open('arxiv_embeddings_10000.pkl', 'wb') as f:\n",
    "    data = pickle.dumps(df)\n",
    "    f.write(data)"
   ]
  }
 ],
 "metadata": {
  "kernelspec": {
   "display_name": "Python 3 (ipykernel)",
   "language": "python",
   "name": "python3"
  },
  "language_info": {
   "codemirror_mode": {
    "name": "ipython",
    "version": 3
   },
   "file_extension": ".py",
   "mimetype": "text/x-python",
   "name": "python",
   "nbconvert_exporter": "python",
   "pygments_lexer": "ipython3",
   "version": "3.10.6"
  }
 },
 "nbformat": 4,
 "nbformat_minor": 5
}
